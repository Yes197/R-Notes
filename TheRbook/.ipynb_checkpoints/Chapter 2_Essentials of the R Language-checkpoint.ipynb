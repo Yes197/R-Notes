{
 "cells": [
  {
   "cell_type": "markdown",
   "metadata": {},
   "source": [
    "# 2.1 Cálculos en R"
   ]
  },
  {
   "cell_type": "markdown",
   "metadata": {},
   "source": [
    "Básicamente puedes usar el command line como una calculadora y hacer diferentes cálculos como por ejemplo:"
   ]
  },
  {
   "cell_type": "code",
   "execution_count": null,
   "metadata": {},
   "outputs": [],
   "source": [
    "log(42/7.3)"
   ]
  },
  {
   "cell_type": "markdown",
   "metadata": {},
   "source": [
    "El espacio del command line es de 8,192 caracteres, pero si quieres continuar en más de una línea puedes finalizar la línea en un lugar donde es obvio que está incompleta (coma final, operador, o más paréntesis a la izquierda que derecha, implicando que continúan más paréntesis derechos en la siguiente linea). En la línea siguiente, el prompt cambiará de **>** a **+**.\n",
    "Dos o más expresiones pueden ser colocadas en una sola linea si están separadas por un **punto y coma.**"
   ]
  },
  {
   "cell_type": "code",
   "execution_count": null,
   "metadata": {},
   "outputs": [],
   "source": [
    "2+3; 5*9; 7+8"
   ]
  },
  {
   "cell_type": "markdown",
   "metadata": {},
   "source": [
    "Para números muy grandes o muy pequeños R usa el siguiente esquema (llamados exponentes):"
   ]
  },
  {
   "cell_type": "code",
   "execution_count": null,
   "metadata": {},
   "outputs": [],
   "source": [
    "1.2e3 #Es 1200 porque e3 significa \"mover el punto decimnal 3 lugares a la derecha\" \n",
    "1.2e-3 #Es 0.0012 porque e-3 significa \"mover el punto decimnal 3 lugares a la izquierda\" \n",
    "3.9+4.5i #es un número complejo con la parte real 3.9 e imaginaria 4.5 e \"i\" es la raíz cuadrada de -1"
   ]
  },
  {
   "cell_type": "markdown",
   "metadata": {},
   "source": [
    "## 2.1.1 Números complejos en R"
   ]
  },
  {
   "cell_type": "markdown",
   "metadata": {},
   "source": [
    "Consisten en una parte real y otra imaginaria, que es identificada por el **i.**"
   ]
  },
  {
   "cell_type": "code",
   "execution_count": null,
   "metadata": {},
   "outputs": [],
   "source": [
    "z <- 3.5-8i\n",
    "z"
   ]
  },
  {
   "cell_type": "markdown",
   "metadata": {},
   "source": [
    "La trigonometría elementaria, logarítmica, exponencial, raíz cuadrada y funciones hiperbólicas son todas implementadas por valores complejos. Las líneas siguientes son funciones especiales que puedes usar con números complejos."
   ]
  },
  {
   "cell_type": "code",
   "execution_count": null,
   "metadata": {},
   "outputs": [],
   "source": [
    "Re(z) #Determina la parte real"
   ]
  },
  {
   "cell_type": "code",
   "execution_count": null,
   "metadata": {},
   "outputs": [],
   "source": [
    "Im(z) #Determina la parte imaginaria"
   ]
  },
  {
   "cell_type": "code",
   "execution_count": null,
   "metadata": {},
   "outputs": [],
   "source": [
    "Mod(z) #Calcula el módulo, distancia de z a 0 en el plano complejo, x real y imaginaria entonces el módulo es sqrt(x2+y2)"
   ]
  },
  {
   "cell_type": "code",
   "execution_count": null,
   "metadata": {},
   "outputs": [],
   "source": [
    "Arg(z) #Calcula el argumento (Arg(x+yi) = atan(x/y))"
   ]
  },
  {
   "cell_type": "code",
   "execution_count": null,
   "metadata": {},
   "outputs": [],
   "source": [
    "Conj(z) #Trabaja la conjugada del número complejo (cambia el signo de la parte imaginaria)"
   ]
  },
  {
   "cell_type": "code",
   "execution_count": null,
   "metadata": {},
   "outputs": [],
   "source": [
    "is.complex(z) #La membresía y la coerción se tratan de la manera habitual. Más detalle sección 2.4\n",
    "as.complex(3.8)"
   ]
  },
  {
   "cell_type": "markdown",
   "metadata": {},
   "source": [
    "## 2.1.2 Redondeo"
   ]
  },
  {
   "cell_type": "markdown",
   "metadata": {},
   "source": [
    "Varias clases de redondeo pueder realizarse fácilmente. Tomaremos como ejemplo el número 5.7"
   ]
  },
  {
   "cell_type": "code",
   "execution_count": null,
   "metadata": {},
   "outputs": [],
   "source": [
    "floor(5.7)  #El mayor entero menor a"
   ]
  },
  {
   "cell_type": "code",
   "execution_count": null,
   "metadata": {},
   "outputs": [],
   "source": [
    "ceiling(5.7)  #El menor entero mayor a"
   ]
  },
  {
   "cell_type": "markdown",
   "metadata": {},
   "source": [
    "Puedes redondear al entero más cercano agregando 0.5 al número y luego usar **floor.** Existe una función incorporada para esto, pero podemos escribir una y así introducir la noción escribir funciones en R. Llamaremos a la función **rounded.**"
   ]
  },
  {
   "cell_type": "code",
   "execution_count": null,
   "metadata": {},
   "outputs": [],
   "source": [
    "rounded <- function(x) \n",
    "            floor(x+0.5)\n",
    "rounded(5.7)\n",
    "rounded(5.4)"
   ]
  },
  {
   "cell_type": "markdown",
   "metadata": {},
   "source": [
    "La parte difícil es decidir como quieres redondear números negativos porque el concepto de subir y bajar es más sutil (-5 es mayor que -6). Entonces necesitas en cambio pensar si quieres redondear en torno a 0 o lejos de 0. Para números negativos redondear hacia arriba significa redondear *en torno a cero* por eso no te sorprendas si el valor de la parte positiva es diferente."
   ]
  },
  {
   "cell_type": "code",
   "execution_count": null,
   "metadata": {},
   "outputs": [],
   "source": [
    "ceiling(-5.7) #Menor entero mayor a -5.7 son redondeados cerca a 0"
   ]
  },
  {
   "cell_type": "code",
   "execution_count": null,
   "metadata": {},
   "outputs": [],
   "source": [
    "floor(-5.7) #Mayor entero menor a -5.7 los valores negativos son redondeados lejos de 0"
   ]
  },
  {
   "cell_type": "markdown",
   "metadata": {},
   "source": [
    "Puedes extraer la parte decimal del número usando **trunc(x)**, esta función retorna el entero más cercano a **x** entre **x** y 0."
   ]
  },
  {
   "cell_type": "code",
   "execution_count": null,
   "metadata": {},
   "outputs": [],
   "source": [
    "trunc(5.7) #como el floor para valores positivos\n",
    "trunc(-5.7) #Como el ceiling para valores negativos\n",
    "trunc(-5.5)\n",
    "trunc(-5.4)"
   ]
  },
  {
   "cell_type": "markdown",
   "metadata": {},
   "source": [
    "Existe una función llamada **round** que puedes usar para especificar \"0\" lugares decimales en el segundo argumento. El criterio de redondeo es como la de nuestra función **rounded** creada anteriormente."
   ]
  },
  {
   "cell_type": "code",
   "execution_count": null,
   "metadata": {},
   "outputs": [],
   "source": [
    "round(5.7, digits = 0)\n",
    "round(5.5, 0)\n",
    "round(5.4, 0)\n",
    "round(-5.7, 0)\n",
    "round(5.785, 1)"
   ]
  },
  {
   "cell_type": "markdown",
   "metadata": {},
   "source": [
    "El número de lugares decimales es diferente al nùmero de dígitos significativos. Puedes controlar el nùmero de dígitos significativos en un número usando la funciòn **signif.** Por ejemplo, para un número grande como 12'345,678 esto pasa cuando pedimos por 4, 5 o 6 dígitos significativos."
   ]
  },
  {
   "cell_type": "code",
   "execution_count": null,
   "metadata": {},
   "outputs": [],
   "source": [
    "signif(12345678, digits = 4)\n",
    "signif(12345678, 5)\n",
    "signif(12345678, 6)"
   ]
  },
  {
   "cell_type": "markdown",
   "metadata": {},
   "source": [
    "## 2.1.2 Aritmética"
   ]
  },
  {
   "cell_type": "markdown",
   "metadata": {},
   "source": [
    "La pantalla de R es una calculadora funcional. La multiplicación es realizada antes de las adiciones y substracciones. Potencias como la raíz cuadrada o cúbica usan el símbolo **caret ^** y son realizadas antes de la multiplicación o división como puedes ver en los siguientes ejemplos."
   ]
  },
  {
   "cell_type": "code",
   "execution_count": null,
   "metadata": {},
   "outputs": [],
   "source": [
    "7+3-8*5\n",
    "3^2/2"
   ]
  },
  {
   "cell_type": "markdown",
   "metadata": {},
   "source": [
    "La función **log** da el logaritmo a la base **e** (e = 2.718282), para lo cual la función antilogarítmica es **exp.** Las funciones trigonométricas en R miden el ángulo en radianes. R conoce el valor de π como **pi.** Por ejemplo para el coseno de 90 la salida no es cero sino 6.1e-10 aunque es un número muy pequeño claramente no es cero. Tener cuidado cuando estás probando por igualdad exacta para números reales.\n",
    "\n",
    "### Funciones matemáticas usadas en R"
   ]
  },
  {
   "cell_type": "code",
   "execution_count": 121,
   "metadata": {},
   "outputs": [
    {
     "data": {
      "text/html": [
       "2.30258509299405"
      ],
      "text/latex": [
       "2.30258509299405"
      ],
      "text/markdown": [
       "2.30258509299405"
      ],
      "text/plain": [
       "[1] 2.302585"
      ]
     },
     "metadata": {},
     "output_type": "display_data"
    },
    {
     "data": {
      "text/html": [
       "0.778151250383644"
      ],
      "text/latex": [
       "0.778151250383644"
      ],
      "text/markdown": [
       "0.778151250383644"
      ],
      "text/plain": [
       "[1] 0.7781513"
      ]
     },
     "metadata": {},
     "output_type": "display_data"
    },
    {
     "data": {
      "text/html": [
       "2"
      ],
      "text/latex": [
       "2"
      ],
      "text/markdown": [
       "2"
      ],
      "text/plain": [
       "[1] 2"
      ]
     },
     "metadata": {},
     "output_type": "display_data"
    },
    {
     "data": {
      "text/html": [
       "22026.4657948067"
      ],
      "text/latex": [
       "22026.4657948067"
      ],
      "text/markdown": [
       "22026.4657948067"
      ],
      "text/plain": [
       "[1] 22026.47"
      ]
     },
     "metadata": {},
     "output_type": "display_data"
    },
    {
     "data": {
      "text/html": [
       "3.16227766016838"
      ],
      "text/latex": [
       "3.16227766016838"
      ],
      "text/markdown": [
       "3.16227766016838"
      ],
      "text/plain": [
       "[1] 3.162278"
      ]
     },
     "metadata": {},
     "output_type": "display_data"
    },
    {
     "data": {
      "text/html": [
       "3628800"
      ],
      "text/latex": [
       "3628800"
      ],
      "text/markdown": [
       "3628800"
      ],
      "text/plain": [
       "[1] 3628800"
      ]
     },
     "metadata": {},
     "output_type": "display_data"
    },
    {
     "data": {
      "text/html": [
       "45"
      ],
      "text/latex": [
       "45"
      ],
      "text/markdown": [
       "45"
      ],
      "text/plain": [
       "[1] 45"
      ]
     },
     "metadata": {},
     "output_type": "display_data"
    },
    {
     "data": {
      "text/html": [
       "362880"
      ],
      "text/latex": [
       "362880"
      ],
      "text/markdown": [
       "362880"
      ],
      "text/plain": [
       "[1] 362880"
      ]
     },
     "metadata": {},
     "output_type": "display_data"
    },
    {
     "data": {
      "text/html": [
       "<ol class=list-inline>\n",
       "\t<li>0.810660648392513</li>\n",
       "\t<li>0.207004324998707</li>\n",
       "\t<li>0.291219469392672</li>\n",
       "\t<li>0.899084703531116</li>\n",
       "\t<li>0.630534490104765</li>\n",
       "\t<li>0.734115454368293</li>\n",
       "\t<li>0.80197596969083</li>\n",
       "\t<li>0.433201091131195</li>\n",
       "\t<li>0.916174967307597</li>\n",
       "\t<li>0.715651853941381</li>\n",
       "</ol>\n"
      ],
      "text/latex": [
       "\\begin{enumerate*}\n",
       "\\item 0.810660648392513\n",
       "\\item 0.207004324998707\n",
       "\\item 0.291219469392672\n",
       "\\item 0.899084703531116\n",
       "\\item 0.630534490104765\n",
       "\\item 0.734115454368293\n",
       "\\item 0.80197596969083\n",
       "\\item 0.433201091131195\n",
       "\\item 0.916174967307597\n",
       "\\item 0.715651853941381\n",
       "\\end{enumerate*}\n"
      ],
      "text/markdown": [
       "1. 0.810660648392513\n",
       "2. 0.207004324998707\n",
       "3. 0.291219469392672\n",
       "4. 0.899084703531116\n",
       "5. 0.630534490104765\n",
       "6. 0.734115454368293\n",
       "7. 0.80197596969083\n",
       "8. 0.433201091131195\n",
       "9. 0.916174967307597\n",
       "10. 0.715651853941381\n",
       "\n",
       "\n"
      ],
      "text/plain": [
       " [1] 0.8106606 0.2070043 0.2912195 0.8990847 0.6305345 0.7341155 0.8019760\n",
       " [8] 0.4332011 0.9161750 0.7156519"
      ]
     },
     "metadata": {},
     "output_type": "display_data"
    },
    {
     "data": {
      "text/html": [
       "6.12303176911189e-17"
      ],
      "text/latex": [
       "6.12303176911189e-17"
      ],
      "text/markdown": [
       "6.12303176911189e-17"
      ],
      "text/plain": [
       "[1] 6.123032e-17"
      ]
     },
     "metadata": {},
     "output_type": "display_data"
    },
    {
     "data": {
      "text/html": [
       "1"
      ],
      "text/latex": [
       "1"
      ],
      "text/markdown": [
       "1"
      ],
      "text/plain": [
       "[1] 1"
      ]
     },
     "metadata": {},
     "output_type": "display_data"
    },
    {
     "data": {
      "text/html": [
       "16331239353195370"
      ],
      "text/latex": [
       "16331239353195370"
      ],
      "text/markdown": [
       "16331239353195370"
      ],
      "text/plain": [
       "[1] 1.633124e+16"
      ]
     },
     "metadata": {},
     "output_type": "display_data"
    },
    {
     "name": "stderr",
     "output_type": "stream",
     "text": [
      "Warning message in acos(pi):\n",
      "\"Se han producido NaNs\""
     ]
    },
    {
     "data": {
      "text/html": [
       "NaN"
      ],
      "text/latex": [
       "NaN"
      ],
      "text/markdown": [
       "NaN"
      ],
      "text/plain": [
       "[1] NaN"
      ]
     },
     "metadata": {},
     "output_type": "display_data"
    },
    {
     "name": "stderr",
     "output_type": "stream",
     "text": [
      "Warning message in asin(pi):\n",
      "\"Se han producido NaNs\""
     ]
    },
    {
     "data": {
      "text/html": [
       "NaN"
      ],
      "text/latex": [
       "NaN"
      ],
      "text/markdown": [
       "NaN"
      ],
      "text/plain": [
       "[1] NaN"
      ]
     },
     "metadata": {},
     "output_type": "display_data"
    },
    {
     "data": {
      "text/html": [
       "1.00388482185389"
      ],
      "text/latex": [
       "1.00388482185389"
      ],
      "text/markdown": [
       "1.00388482185389"
      ],
      "text/plain": [
       "[1] 1.003885"
      ]
     },
     "metadata": {},
     "output_type": "display_data"
    },
    {
     "data": {
      "text/html": [
       "1.81152627246085"
      ],
      "text/latex": [
       "1.81152627246085"
      ],
      "text/markdown": [
       "1.81152627246085"
      ],
      "text/plain": [
       "[1] 1.811526"
      ]
     },
     "metadata": {},
     "output_type": "display_data"
    },
    {
     "data": {
      "text/html": [
       "1.86229574331085"
      ],
      "text/latex": [
       "1.86229574331085"
      ],
      "text/markdown": [
       "1.86229574331085"
      ],
      "text/plain": [
       "[1] 1.862296"
      ]
     },
     "metadata": {},
     "output_type": "display_data"
    },
    {
     "name": "stderr",
     "output_type": "stream",
     "text": [
      "Warning message in atanh(pi/2):\n",
      "\"Se han producido NaNs\""
     ]
    },
    {
     "data": {
      "text/html": [
       "NaN"
      ],
      "text/latex": [
       "NaN"
      ],
      "text/markdown": [
       "NaN"
      ],
      "text/plain": [
       "[1] NaN"
      ]
     },
     "metadata": {},
     "output_type": "display_data"
    },
    {
     "data": {
      "text/html": [
       "1"
      ],
      "text/latex": [
       "1"
      ],
      "text/markdown": [
       "1"
      ],
      "text/plain": [
       "[1] 1"
      ]
     },
     "metadata": {},
     "output_type": "display_data"
    }
   ],
   "source": [
    "log(10) #logaritmo de 10 en la base e\n",
    "log10(6) #Logaritmo en la base 10\n",
    "log(9,3) #Logaritmos en otras bases son posibles con el segundo argumento de log, el ejemplo es logaritmo de 9 en la base 3\n",
    "exp(10) #Antilogaritmo de 10 (e^10)\n",
    "sqrt(10) #Raíz cuadrada de 10\n",
    "factorial(10) #El factorial de diez: 10!\n",
    "choose(10,2) #Coeficientes binomiales 10!/(2!(10-2)!)\n",
    "gamma(10) #T(10), para reales 10(10-1)! para enteros 10\n",
    "runif(10) #genera 10 números aleatorios entre 0 y 1 desde una distribución uniforme\n",
    "cos(pi/2) #coseno de 90 en radianes\n",
    "sin(pi/2) #seno de 90 en radianes\n",
    "tan(pi/2) #tangente de 90 en radianes\n",
    "acos(pi); asin(pi); atan(pi/2) #transformaciones trigonometricas inversas de numeros reales o complejos\n",
    "acosh(pi); asinh(pi); atanh(pi/2) #transformaciones trigonometricas hiperbólicas inversas de numeros reales o complejos\n",
    "abs(-1) #El valor absoluto de -1, ignorando el signo \"-\" si es que hay uno"
   ]
  },
  {
   "cell_type": "code",
   "execution_count": null,
   "metadata": {
    "collapsed": true
   },
   "outputs": [],
   "source": []
  },
  {
   "cell_type": "markdown",
   "metadata": {},
   "source": [
    "## 2.1.4 Módulo y cocientes enteros"
   ]
  },
  {
   "cell_type": "markdown",
   "metadata": {},
   "source": [
    "Cocientes enteros y residuos son obtenidos con las notaciones **%/%** y **%%** respectivamente. Por ejemplo si queremos saber cuantos 12 hay en 119 ver la primnera línea de código y si queremos saber el residuo o también conocido en matemáticas como **módulo** ver la segunda línea de código."
   ]
  },
  {
   "cell_type": "code",
   "execution_count": null,
   "metadata": {},
   "outputs": [],
   "source": [
    "119 %/% 13\n",
    "119 %% 13"
   ]
  },
  {
   "cell_type": "markdown",
   "metadata": {},
   "source": [
    "El módulo es muy útil para probar si los números son pares o impares; los impares tienen valor 1 en módulo 2 y los pares tienen modulo 2 igual a 0. igualmente, usas módulo para probar si un número es un múltiplo de algún otro número. Por ejemplo, para saber si 15,421 es múltiplo de 7:"
   ]
  },
  {
   "cell_type": "code",
   "execution_count": null,
   "metadata": {},
   "outputs": [],
   "source": [
    "15421 %% 7 == 0  #Note que usamos doble = para probar igualdad"
   ]
  },
  {
   "cell_type": "markdown",
   "metadata": {},
   "source": [
    "## 2.1.5 Nombres de variables y asignaciones"
   ]
  },
  {
   "cell_type": "markdown",
   "metadata": {},
   "source": [
    "Hay 3 importantes conceptos que recordar cuando seleccionamos nombres para tus variables en R:\n",
    "* Los nombres de variables en R **distinguen entre** mayúsculas y minúsculas. Así que **y** no es igual que **Y.**\n",
    "* Los nombres de variables en R **no deben comenzar** con números o símbolos.\n",
    "* Los nombres de variables en R **no deben contener** espacios en blanco.\n",
    "\n",
    "Como consejo haz tus nombres de variables lo más cortos posible así no gastarás mucho tiempo escribiéndolos.\n",
    "Los objetos obtienen valores en R por asignación. Esto se logra mediante a flecha **<-** note que no hay espacios entre \">\" y \"-\"."
   ]
  },
  {
   "cell_type": "code",
   "execution_count": null,
   "metadata": {
    "collapsed": true
   },
   "outputs": [],
   "source": [
    "x <- 5  #x obtiene el valor 5"
   ]
  },
  {
   "cell_type": "markdown",
   "metadata": {},
   "source": [
    "## 2.1.6 Operadores"
   ]
  },
  {
   "cell_type": "markdown",
   "metadata": {},
   "source": [
    "R usa los siguientes operadores:\n",
    "\n",
    "**\\+ \\- \\* / %/% %% ˆ** &nbsp; Aritméticos (suma, resta, multiplicación, división, cociente entero, módulo, potencia) <br>\n",
    "**\\> >= < <= == !=** &nbsp; Relacional (mayor que, mayor igual, menor que, menor igual, igual, no igual) <br>\n",
    "**! & |** &nbsp; Lógico (not, and, or) <br>\n",
    "**~** &nbsp; Formulación de modelo (‘es modelado en función de’) <br>\n",
    "**<- ->** &nbsp; Asignación (obtener) <br>\n",
    "**$** &nbsp; Indexación de listas (el operador ‘nombre de elemento’) <br>\n",
    "**:** &nbsp; crea una secuencia <br>\n",
    "Muchos de estos operadores tienen diferentes significados dentro de la formulación de modelo. Por ejemplo, __*__ indica effectos principales más interacción; **:**, la interacción entre dos variables y **^**, todas las interacciones hasta la potencia indicado. Se verá más de esto en el capítulo 9."
   ]
  },
  {
   "cell_type": "markdown",
   "metadata": {},
   "source": [
    "## 2.1.7 Enteros"
   ]
  },
  {
   "cell_type": "markdown",
   "metadata": {},
   "source": [
    "Los vectores enteros existen para que la data pueda ser pasada de código C a Fortran, y asi los pequeños datos enteros puedan ser representados de manera exacta y compacta. El rango de enteros es desde −2 000 000 000 a\n",
    "+2 000 000 000 (que R mostraría como -2e+09 a 2e+09). <br> No trates de cambiar la clase de un vector usando la función **integer.** En el siguiente ejemplo se muestra un vector numérico de números enteros que desea convertir en un vector de enteros."
   ]
  },
  {
   "cell_type": "code",
   "execution_count": null,
   "metadata": {},
   "outputs": [],
   "source": [
    "x <- c(5, 3, 7, 8)\n",
    "is.integer(x)\n",
    "is.numeric(x)"
   ]
  },
  {
   "cell_type": "markdown",
   "metadata": {},
   "source": [
    "Aplicar la función **integer** al vector reemplaza todos tus números con ceros, definitivamente no es lo que quieres. Has los objetos numéricos primero, luego convierte el objeto en entero usando la función **as.integer** de la siguiente forma:"
   ]
  },
  {
   "cell_type": "code",
   "execution_count": null,
   "metadata": {},
   "outputs": [],
   "source": [
    "x <- c(5, 3, 7, 8)\n",
    "x <- as.integer(x)\n",
    "is.integer(x)"
   ]
  },
  {
   "cell_type": "markdown",
   "metadata": {},
   "source": [
    "La función **integer** trabaja como **trunc** cuando es aplicado a números reales y elimina la parte imaginaria cuando es aplicado a números complejos."
   ]
  },
  {
   "cell_type": "code",
   "execution_count": null,
   "metadata": {},
   "outputs": [],
   "source": [
    "as.integer(5.7)\n",
    "as.integer(-5.7)\n",
    "as.integer(5.7 - 3i)"
   ]
  },
  {
   "cell_type": "markdown",
   "metadata": {},
   "source": [
    "## 2.1.8 Factores"
   ]
  },
  {
   "cell_type": "markdown",
   "metadata": {},
   "source": [
    "Los factores son variables categóricas que tienen un número fijo de niveles. Un simple ejemplo de un factor podria ser una variable llamada género con 2 niveles: 'female' y 'male'. Si tienes 3 females y 2 males puedes crear un factor como este:"
   ]
  },
  {
   "cell_type": "code",
   "execution_count": null,
   "metadata": {},
   "outputs": [],
   "source": [
    "gender <- factor(c(\"female\", \"male\", \"female\", \"male\", \"female\"))\n",
    "class(gender)\n",
    "mode(gender)"
   ]
  },
  {
   "cell_type": "markdown",
   "metadata": {},
   "source": [
    "Más seguido crearas dataframes mediante la lectura de tu data desde un archivo usando la función **read.table.** Cuando hagas esto, todas las variables que contienen uno o más caracteres strings serán convertidos automáticamente en factores. Aquí un ejemplo:"
   ]
  },
  {
   "cell_type": "code",
   "execution_count": null,
   "metadata": {},
   "outputs": [],
   "source": [
    "data <- read.table(\"daphnia.txt\", header = T)\n",
    "attach(data)\n",
    "head(data) "
   ]
  },
  {
   "cell_type": "markdown",
   "metadata": {},
   "source": [
    "Este dataframe contiene una variable de respuesta continua (Growth.rate) y tres variables explicativas categóricas ((Water, Detergent y Daphnia), todas son factores. En el modelado estadístico, los factores son asociados con el análisis de varianza (todas las variables explicativas son categóricas) y el análisis de covarianza (Algunas de las variables explicativas son categóricas y otras son continuas). Existen algunas funciones importantes para tratar con factores. A menudo querrás ver si una variable es un factor (especialmente si los niveles de factores son números en lugar de caracteres)."
   ]
  },
  {
   "cell_type": "code",
   "execution_count": null,
   "metadata": {},
   "outputs": [],
   "source": [
    "is.factor(Water) #Ver si la variable Water es un factor\n",
    "levels(Detergent) #Descubrir los nombres de los niveles del factor\n",
    "nlevels(Detergent) #Descubrir el número de niveles del factor\n",
    "length(levels(Detergent)) #El mismo resultado es alcanzado aplicando la función length a los niveles del factor"
   ]
  },
  {
   "cell_type": "markdown",
   "metadata": {},
   "source": [
    "Por defecto, los niveles de factor son tratados en orden alfabético. Si quieres cambiar esto (lo querrás por ejemplo, para ordenar las barras de un gráfico de barras) entonces esto es sencillo: solo copia los niveles de factor en el orden que tu quieres y proporcione este vector como el segundo argumento de la función **factor.** <br> Supongamos que tenemos un experimento con 3 niveles de factor en una variable llamada \"treatment\", y queremos que aparezcan en el orden: ‘nothing’, ‘single’ y ‘double’. Necesitamos anular la tendencia de R de ordenarlo: ‘double’, ‘nothing’, ‘single’."
   ]
  },
  {
   "cell_type": "code",
   "execution_count": null,
   "metadata": {},
   "outputs": [],
   "source": [
    "frame <- read.table(\"sortdata.txt\", header=T) #no existe este documento solo es ejemplo\n",
    "attach(frame)\n",
    "tapply(response,treatment,mean) #para mostrar la cantidad de datos de cada clase de factor\n",
    "treatment <- factor(treatment, levels = c(\"nothing\",\"single\",\"double\"))\n",
    "tapply(response, treatment, mean) #Ahora tenemos el orden que queremos"
   ]
  },
  {
   "cell_type": "markdown",
   "metadata": {},
   "source": [
    "Sólo se pueden usar == y! = Para los factores. Tenga en cuenta, también, que un factor solo puede ser comparado con otro factor con un conjunto idéntico de niveles (no necesariamente en el mismo orden) o con un vector de caracteres. Por ejemplo no puedes hacer preguntas cuantitativas acerca de niveles de factor, como \\> o <=, incluso si esos niveles son numéricos. Para convertir los niveles de factor en números (enteros) use la función **unclass** de esta manera:"
   ]
  },
  {
   "cell_type": "code",
   "execution_count": 120,
   "metadata": {},
   "outputs": [
    {
     "data": {
      "text/html": [
       "<ol class=list-inline>\n",
       "\t<li>1</li>\n",
       "\t<li>1</li>\n",
       "\t<li>1</li>\n",
       "\t<li>2</li>\n",
       "\t<li>2</li>\n",
       "\t<li>2</li>\n",
       "\t<li>3</li>\n",
       "\t<li>3</li>\n",
       "\t<li>3</li>\n",
       "\t<li>1</li>\n",
       "\t<li>1</li>\n",
       "\t<li>1</li>\n",
       "\t<li>2</li>\n",
       "\t<li>2</li>\n",
       "\t<li>2</li>\n",
       "\t<li>3</li>\n",
       "\t<li>3</li>\n",
       "\t<li>3</li>\n",
       "\t<li>1</li>\n",
       "\t<li>1</li>\n",
       "\t<li>1</li>\n",
       "\t<li>2</li>\n",
       "\t<li>2</li>\n",
       "\t<li>2</li>\n",
       "\t<li>3</li>\n",
       "\t<li>3</li>\n",
       "\t<li>3</li>\n",
       "\t<li>1</li>\n",
       "\t<li>1</li>\n",
       "\t<li>1</li>\n",
       "\t<li>2</li>\n",
       "\t<li>2</li>\n",
       "\t<li>2</li>\n",
       "\t<li>3</li>\n",
       "\t<li>3</li>\n",
       "\t<li>3</li>\n",
       "\t<li>1</li>\n",
       "\t<li>1</li>\n",
       "\t<li>1</li>\n",
       "\t<li>2</li>\n",
       "\t<li>2</li>\n",
       "\t<li>2</li>\n",
       "\t<li>3</li>\n",
       "\t<li>3</li>\n",
       "\t<li>3</li>\n",
       "\t<li>1</li>\n",
       "\t<li>1</li>\n",
       "\t<li>1</li>\n",
       "\t<li>2</li>\n",
       "\t<li>2</li>\n",
       "\t<li>2</li>\n",
       "\t<li>3</li>\n",
       "\t<li>3</li>\n",
       "\t<li>3</li>\n",
       "\t<li>1</li>\n",
       "\t<li>1</li>\n",
       "\t<li>1</li>\n",
       "\t<li>2</li>\n",
       "\t<li>2</li>\n",
       "\t<li>2</li>\n",
       "\t<li>3</li>\n",
       "\t<li>3</li>\n",
       "\t<li>3</li>\n",
       "\t<li>1</li>\n",
       "\t<li>1</li>\n",
       "\t<li>1</li>\n",
       "\t<li>2</li>\n",
       "\t<li>2</li>\n",
       "\t<li>2</li>\n",
       "\t<li>3</li>\n",
       "\t<li>3</li>\n",
       "\t<li>3</li>\n",
       "</ol>\n"
      ],
      "text/latex": [
       "\\begin{enumerate*}\n",
       "\\item 1\n",
       "\\item 1\n",
       "\\item 1\n",
       "\\item 2\n",
       "\\item 2\n",
       "\\item 2\n",
       "\\item 3\n",
       "\\item 3\n",
       "\\item 3\n",
       "\\item 1\n",
       "\\item 1\n",
       "\\item 1\n",
       "\\item 2\n",
       "\\item 2\n",
       "\\item 2\n",
       "\\item 3\n",
       "\\item 3\n",
       "\\item 3\n",
       "\\item 1\n",
       "\\item 1\n",
       "\\item 1\n",
       "\\item 2\n",
       "\\item 2\n",
       "\\item 2\n",
       "\\item 3\n",
       "\\item 3\n",
       "\\item 3\n",
       "\\item 1\n",
       "\\item 1\n",
       "\\item 1\n",
       "\\item 2\n",
       "\\item 2\n",
       "\\item 2\n",
       "\\item 3\n",
       "\\item 3\n",
       "\\item 3\n",
       "\\item 1\n",
       "\\item 1\n",
       "\\item 1\n",
       "\\item 2\n",
       "\\item 2\n",
       "\\item 2\n",
       "\\item 3\n",
       "\\item 3\n",
       "\\item 3\n",
       "\\item 1\n",
       "\\item 1\n",
       "\\item 1\n",
       "\\item 2\n",
       "\\item 2\n",
       "\\item 2\n",
       "\\item 3\n",
       "\\item 3\n",
       "\\item 3\n",
       "\\item 1\n",
       "\\item 1\n",
       "\\item 1\n",
       "\\item 2\n",
       "\\item 2\n",
       "\\item 2\n",
       "\\item 3\n",
       "\\item 3\n",
       "\\item 3\n",
       "\\item 1\n",
       "\\item 1\n",
       "\\item 1\n",
       "\\item 2\n",
       "\\item 2\n",
       "\\item 2\n",
       "\\item 3\n",
       "\\item 3\n",
       "\\item 3\n",
       "\\end{enumerate*}\n"
      ],
      "text/markdown": [
       "1. 1\n",
       "2. 1\n",
       "3. 1\n",
       "4. 2\n",
       "5. 2\n",
       "6. 2\n",
       "7. 3\n",
       "8. 3\n",
       "9. 3\n",
       "10. 1\n",
       "11. 1\n",
       "12. 1\n",
       "13. 2\n",
       "14. 2\n",
       "15. 2\n",
       "16. 3\n",
       "17. 3\n",
       "18. 3\n",
       "19. 1\n",
       "20. 1\n",
       "21. 1\n",
       "22. 2\n",
       "23. 2\n",
       "24. 2\n",
       "25. 3\n",
       "26. 3\n",
       "27. 3\n",
       "28. 1\n",
       "29. 1\n",
       "30. 1\n",
       "31. 2\n",
       "32. 2\n",
       "33. 2\n",
       "34. 3\n",
       "35. 3\n",
       "36. 3\n",
       "37. 1\n",
       "38. 1\n",
       "39. 1\n",
       "40. 2\n",
       "41. 2\n",
       "42. 2\n",
       "43. 3\n",
       "44. 3\n",
       "45. 3\n",
       "46. 1\n",
       "47. 1\n",
       "48. 1\n",
       "49. 2\n",
       "50. 2\n",
       "51. 2\n",
       "52. 3\n",
       "53. 3\n",
       "54. 3\n",
       "55. 1\n",
       "56. 1\n",
       "57. 1\n",
       "58. 2\n",
       "59. 2\n",
       "60. 2\n",
       "61. 3\n",
       "62. 3\n",
       "63. 3\n",
       "64. 1\n",
       "65. 1\n",
       "66. 1\n",
       "67. 2\n",
       "68. 2\n",
       "69. 2\n",
       "70. 3\n",
       "71. 3\n",
       "72. 3\n",
       "\n",
       "\n"
      ],
      "text/plain": [
       " [1] 1 1 1 2 2 2 3 3 3 1 1 1 2 2 2 3 3 3 1 1 1 2 2 2 3 3 3 1 1 1 2 2 2 3 3 3 1 1\n",
       "[39] 1 2 2 2 3 3 3 1 1 1 2 2 2 3 3 3 1 1 1 2 2 2 3 3 3 1 1 1 2 2 2 3 3 3"
      ]
     },
     "metadata": {},
     "output_type": "display_data"
    }
   ],
   "source": [
    "as.vector(unclass(Daphnia))"
   ]
  },
  {
   "cell_type": "markdown",
   "metadata": {},
   "source": [
    "### Operaciones lógicas y relacionales\n",
    "! &nbsp; lógico NOT <br>\n",
    "& &nbsp; lógico AND <br>\n",
    "| &nbsp; lógico OR <br>\n",
    "= &nbsp; mayor que o igual a  <br>\n",
    "== &nbsp; lógica de igualdad (doble =) <br>\n",
    "!= &nbsp; no igual <br>\n",
    "&& &nbsp; AND con IF <br>\n",
    "|| &nbsp; OR con IF <br>\n",
    "xor(x,y) &nbsp; exclusivo OR<br>\n",
    "isTRUE(x) &nbsp; una abreviación de identical(TRUE,x)"
   ]
  },
  {
   "cell_type": "markdown",
   "metadata": {},
   "source": [
    "# 2.2 Operaciones Lógicas"
   ]
  },
  {
   "cell_type": "markdown",
   "metadata": {},
   "source": []
  },
  {
   "cell_type": "markdown",
   "metadata": {},
   "source": [
    "## 2.2.1 TRUE and T with FALSE and F"
   ]
  },
  {
   "cell_type": "markdown",
   "metadata": {},
   "source": [
    "## 2.2.2 Prueba de igualdad con números reales"
   ]
  },
  {
   "cell_type": "markdown",
   "metadata": {},
   "source": [
    "# 2.3 Secuencias"
   ]
  },
  {
   "cell_type": "markdown",
   "metadata": {},
   "source": [
    "# 2.4 Pruebas y coerción"
   ]
  },
  {
   "cell_type": "markdown",
   "metadata": {},
   "source": [
    "# 2.5 Missing values y cosas que no son números"
   ]
  },
  {
   "cell_type": "markdown",
   "metadata": {},
   "source": [
    "# 2.6 Vectores y subscripts (subíndices)"
   ]
  },
  {
   "cell_type": "markdown",
   "metadata": {},
   "source": [
    "# 2.7 Funciones Vectorizadas"
   ]
  },
  {
   "cell_type": "markdown",
   "metadata": {},
   "source": [
    "# 2.8 Matrices y arrays (arreglos)"
   ]
  },
  {
   "cell_type": "markdown",
   "metadata": {},
   "source": [
    "# 2.9 Muestreo"
   ]
  },
  {
   "cell_type": "markdown",
   "metadata": {},
   "source": [
    "# 2.10 Loops y repetición"
   ]
  },
  {
   "cell_type": "markdown",
   "metadata": {},
   "source": [
    "# 2.11 Listas"
   ]
  },
  {
   "cell_type": "markdown",
   "metadata": {},
   "source": [
    "# 2.12 Texto, caracteres strings y pattern matching"
   ]
  },
  {
   "cell_type": "markdown",
   "metadata": {},
   "source": [
    "# 2.13 Fechas y horas"
   ]
  },
  {
   "cell_type": "markdown",
   "metadata": {},
   "source": [
    "# 2.14 Entorno"
   ]
  },
  {
   "cell_type": "markdown",
   "metadata": {},
   "source": [
    "# 2.15 Escribiendo funciones R"
   ]
  },
  {
   "cell_type": "markdown",
   "metadata": {},
   "source": [
    "# 2.16 Escribiendo en archivo desde R"
   ]
  },
  {
   "cell_type": "markdown",
   "metadata": {},
   "source": [
    "## 2.16.6 Escribiendo un archivo legible  Excel desde R"
   ]
  },
  {
   "cell_type": "code",
   "execution_count": null,
   "metadata": {
    "collapsed": true
   },
   "outputs": [],
   "source": []
  }
 ],
 "metadata": {
  "kernelspec": {
   "display_name": "R",
   "language": "R",
   "name": "ir"
  },
  "language_info": {
   "codemirror_mode": "r",
   "file_extension": ".r",
   "mimetype": "text/x-r-source",
   "name": "R",
   "pygments_lexer": "r",
   "version": "3.4.3"
  }
 },
 "nbformat": 4,
 "nbformat_minor": 2
}
